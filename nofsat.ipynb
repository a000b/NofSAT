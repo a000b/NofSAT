{
 "cells": [
  {
   "cell_type": "code",
   "execution_count": 3,
   "metadata": {},
   "outputs": [
    {
     "name": "stdout",
     "output_type": "stream",
     "text": [
      "Spendable satoshis after 33 halvings plus 100 blocks: 2099994997690000\n"
     ]
    }
   ],
   "source": [
    "def countZeros(x):\n",
    "    total_bits = 64\n",
    "    res = 0\n",
    "    while ((x & (1 << (total_bits - 1))) == 0):\n",
    "        x = (x << 1)\n",
    "        res += 1\n",
    "    return res\n",
    "\n",
    "if __name__ == '__main__':\n",
    "    totalSatoshis = 0\n",
    "    COIN = 100000000\n",
    "    BLOCKS_PER_HALVING = 210000\n",
    "    INITIAL_BLOCK_REWARD = 50 * COIN\n",
    "    numHalvings = 64 - countZeros(INITIAL_BLOCK_REWARD)\n",
    "\n",
    "    for halvings in range(numHalvings):\n",
    "        totalSatoshis += (INITIAL_BLOCK_REWARD >> halvings) * BLOCKS_PER_HALVING\n",
    "\n",
    "    total_spendable_sats = totalSatoshis - INITIAL_BLOCK_REWARD\n",
    "\n",
    "    print(f\"Spendable satoshis after {numHalvings} \"\n",
    "          f\"halvings plus 100 blocks: {total_spendable_sats}\")"
   ]
  }
 ],
 "metadata": {
  "kernelspec": {
   "display_name": "Python 3",
   "language": "python",
   "name": "python3"
  },
  "language_info": {
   "codemirror_mode": {
    "name": "ipython",
    "version": 3
   },
   "file_extension": ".py",
   "mimetype": "text/x-python",
   "name": "python",
   "nbconvert_exporter": "python",
   "pygments_lexer": "ipython3",
   "version": "3.6.10"
  }
 },
 "nbformat": 4,
 "nbformat_minor": 4
}
